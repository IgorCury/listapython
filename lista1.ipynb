{
 "cells": [
  {
   "cell_type": "code",
   "execution_count": 2,
   "metadata": {},
   "outputs": [
    {
     "name": "stdout",
     "output_type": "stream",
     "text": [
      "Alo Mundo!\n"
     ]
    }
   ],
   "source": [
    "#1 - Faça um Programa que mostre a mensagem \"Alo mundo\" na tela.\n",
    "print('Alo Mundo!')"
   ]
  },
  {
   "cell_type": "code",
   "execution_count": 3,
   "metadata": {},
   "outputs": [
    {
     "name": "stdout",
     "output_type": "stream",
     "text": [
      "O Numero escolhido foi 1\n"
     ]
    }
   ],
   "source": [
    "#2 - Faça um Programa que peça um número e então mostre a mensagem O número informado foi [número].\n",
    "num = input(str('Escolha um numero?'))\n",
    "print('O Numero escolhido foi', num)"
   ]
  },
  {
   "cell_type": "code",
   "execution_count": 4,
   "metadata": {},
   "outputs": [
    {
     "name": "stdout",
     "output_type": "stream",
     "text": [
      "O Numero escolhido foi 2\n"
     ]
    }
   ],
   "source": [
    "# 3 - Faça um Programa que peça dois números e imprima a soma.\n",
    "num1 = int(input(str('Escolha um numero?')))\n",
    "num2 = int(input(str('Agora, escolha outro numero?')))\n",
    "resposta = num1 + num2\n",
    "print('O Numero escolhido foi', resposta )\n"
   ]
  },
  {
   "cell_type": "code",
   "execution_count": 5,
   "metadata": {},
   "outputs": [
    {
     "name": "stdout",
     "output_type": "stream",
     "text": [
      "O Numero escolhido foi 1.0\n"
     ]
    }
   ],
   "source": [
    "# 4 - Faça um Programa que peça as 4 notas bimestrais e mostre a média.\n",
    "num1 = int(input(str('Nota bimestral 1:')))\n",
    "num2 = int(input(str('Nota bimestral 2:')))\n",
    "num3 = int(input(str('Nota bimestral 3:')))\n",
    "num4 = int(input(str('Nota bimestral 4:')))\n",
    "resposta = (num1 + num2 + num3 + num4) / 4\n",
    "print('O Numero escolhido foi', resposta )\n"
   ]
  },
  {
   "cell_type": "code",
   "execution_count": 6,
   "metadata": {},
   "outputs": [
    {
     "name": "stdout",
     "output_type": "stream",
     "text": [
      "O Numero escolhido foi 100 cm\n"
     ]
    }
   ],
   "source": [
    "#5 Faça um Programa que converta metros para centímetros.\n",
    "num1 = int(input(str('Qual a metragem que deseja transformar em cm:')))\n",
    "resposta = num1 * 100\n",
    "print('O Numero escolhido foi', resposta, 'cm')"
   ]
  },
  {
   "cell_type": "code",
   "execution_count": 7,
   "metadata": {},
   "outputs": [
    {
     "name": "stdout",
     "output_type": "stream",
     "text": [
      "A área do círculo é 3.14\n"
     ]
    }
   ],
   "source": [
    "#6 Faça um Programa que peça o raio de um círculo, calcule e mostre sua área.\n",
    "r = float(input(\"Qual o raio do círculo? \"))\n",
    "# Receber o valor do raio\n",
    "a = r * 3.14\n",
    "# Cálculo da área\n",
    "print(f\"A área do círculo é {a}\")"
   ]
  },
  {
   "cell_type": "code",
   "execution_count": 8,
   "metadata": {},
   "outputs": [
    {
     "name": "stdout",
     "output_type": "stream",
     "text": [
      "Resposta 2\n"
     ]
    }
   ],
   "source": [
    "#7Faça um Programa que calcule a área de um quadrado, em seguida mostre o dobro desta área para o usuário.\n",
    "quad = int(input('Qual a area que deseja calcular?:'))\n",
    "resposta = quad * quad\n",
    "resp1 = resposta * 2\n",
    "print('Resposta', resp1)"
   ]
  },
  {
   "cell_type": "code",
   "execution_count": 9,
   "metadata": {},
   "outputs": [
    {
     "name": "stdout",
     "output_type": "stream",
     "text": [
      "Seu salário por mês é: 1.0\n"
     ]
    }
   ],
   "source": [
    "#8 Faça um Programa que pergunte quanto você ganha por hora e o número de horas trabalhadas no mês. Calcule e mostre o total do seu salário no referido mês.\n",
    "salario_por_hora = lambda: float(input('Qual é o seu salário por hora? '))\n",
    "horas_trabalhadas_por_mes = lambda: int(input('Quantas horas você trabalha por mês? '))\n",
    "\n",
    "calcular_salario_mensal = lambda salHo, diasTrab: salHo * diasTrab\n",
    "\n",
    "salHo = salario_por_hora()\n",
    "diasTrab = horas_trabalhadas_por_mes()\n",
    "\n",
    "print('Seu salário por mês é:', calcular_salario_mensal(salHo, diasTrab))\n",
    "#escrevi em lambda para entender melhor"
   ]
  },
  {
   "cell_type": "code",
   "execution_count": 10,
   "metadata": {},
   "outputs": [
    {
     "name": "stdout",
     "output_type": "stream",
     "text": [
      "O grau celsius é de -17.22222222222222\n"
     ]
    }
   ],
   "source": [
    "#9 Faça um Programa que peça a temperatura em graus Fahrenheit, transforme e mostre a temperatura em graus Celsius.\n",
    "#C = 5 * ((F-32) / 9).\n",
    "\n",
    "fah = int(input('Qual a temperatura que deseja transformar em celsius?'))\n",
    "res = 5 * ((fah - 32) / 9)\n",
    "print('O grau celsius é de', res)\n"
   ]
  },
  {
   "cell_type": "code",
   "execution_count": 11,
   "metadata": {},
   "outputs": [
    {
     "name": "stdout",
     "output_type": "stream",
     "text": [
      "O grau celsius é de 33.8\n"
     ]
    }
   ],
   "source": [
    "#10 - Faça um Programa que peça a temperatura em graus Celsius, transforme e mostre em graus Fahrenheit.\n",
    "cel = int(input('Qual a temperatura que deseja transformar em celsius?'))\n",
    "res = ((cel * 1.8) + 32)\n",
    "print('O grau celsius é de', res)"
   ]
  },
  {
   "cell_type": "code",
   "execution_count": 12,
   "metadata": {},
   "outputs": [
    {
     "name": "stdout",
     "output_type": "stream",
     "text": [
      "O produto do dobro do primeiro com metade do segundo é: 1.0\n",
      "A soma do triplo do primeiro com o terceiro é: 4.0\n",
      "O terceiro elevado ao cubo é: 1.0\n"
     ]
    }
   ],
   "source": [
    "#11 - Faça um Programa que peça 2 números inteiros e um número real. Calcule e mostre: o produto do dobro do primeiro com metade do segundo .\n",
    "#a soma do triplo do primeiro com o terceiro. o terceiro elevado ao cubo.\n",
    "\n",
    "# Pedindo os números do usuário\n",
    "numero_inteiro1 = int(input(\"Digite o primeiro número inteiro: \"))\n",
    "numero_inteiro2 = int(input(\"Digite o segundo número inteiro: \"))\n",
    "numero_real = float(input(\"Digite o número real: \"))\n",
    "\n",
    "# Calculando os resultados\n",
    "resultado1 = (2 * numero_inteiro1) * (numero_inteiro2 / 2)\n",
    "resultado2 = (3 * numero_inteiro1) + numero_real\n",
    "resultado3 = numero_real ** 3\n",
    "\n",
    "# Mostrando os resultados\n",
    "print(\"O produto do dobro do primeiro com metade do segundo é:\", resultado1)\n",
    "print(\"A soma do triplo do primeiro com o terceiro é:\", resultado2)\n",
    "print(\"O terceiro elevado ao cubo é:\", resultado3)"
   ]
  },
  {
   "cell_type": "code",
   "execution_count": 13,
   "metadata": {},
   "outputs": [
    {
     "name": "stdout",
     "output_type": "stream",
     "text": [
      "Seu peso ideal 14.700000000000003\n"
     ]
    }
   ],
   "source": [
    "# 12 - Tendo como dados de entrada a altura de uma pessoa, construa um algoritmo que calcule seu peso ideal, usando a seguinte fórmula: (72.7*altura) - 58\n",
    "# Pedindo a altura do usuário\n",
    "peso = float(input(\"Digite seu peso: \"))\n",
    "resp = (72.7 * peso) - 58\n",
    "print('Seu peso ideal', resp)\n"
   ]
  },
  {
   "cell_type": "code",
   "execution_count": 14,
   "metadata": {},
   "outputs": [
    {
     "name": "stdout",
     "output_type": "stream",
     "text": [
      "Seu peso ideal é 14.700000000000003 quilogramas.\n"
     ]
    }
   ],
   "source": [
    "# 13 - Tendo como dado de entrada a altura (h) de uma pessoa, construa um algoritmo que calcule seu peso ideal, utilizando as seguintes fórmulas:\n",
    "# Para homens: (72.7*h) - 58 Para mulheres: (62.1*h) - 44.7\n",
    "alt = float(input(\"Digite sua altura em metros: \"))\n",
    "sx = int(input('Digite 1 para Homem ou 2 para mulher: '))\n",
    "\n",
    "def calc(alt, sx):\n",
    "    if sx == 1:\n",
    "        resp = (72.7 * alt) - 58\n",
    "    elif sx == 2:\n",
    "        resp = (62.1 * alt) - 44.7\n",
    "    else:\n",
    "        resp = \"Opção inválida\"\n",
    "    return resp\n",
    "\n",
    "peso_ideal = calc(alt, sx)\n",
    "print('Seu peso ideal é', peso_ideal, 'quilogramas.')"
   ]
  },
  {
   "cell_type": "code",
   "execution_count": 15,
   "metadata": {},
   "outputs": [
    {
     "name": "stdout",
     "output_type": "stream",
     "text": [
      "Pescou a menos\n"
     ]
    }
   ],
   "source": [
    "# 14 João Papo-de-Pescador, homem de bem, comprou um microcomputador para controlar o rendimento diário de seu trabalho. Toda vez que ele traz um peso de peixes maior que o estabelecido pelo regulamento de pesca do estado de São Paulo (50 quilos) deve pagar uma multa de R$ 4,00 por quilo excedente. João precisa que você faça um programa que leia a variável peso (peso de peixes) e calcule o excesso. Gravar na variável excesso a quantidade de quilos além do limite e na variável multa o valor da multa que João deverá pagar. Imprima os dados do programa com as mensagens adequadas.\n",
    "fish = 50\n",
    "extra = 4\n",
    "peso = float(input(\"Digite os kg de peixe pescado: \"))\n",
    "\n",
    "def calc():\n",
    "    global extra  # Permitindo a modificação da variável extra dentro da função\n",
    "    if peso == 50:\n",
    "        print('Peso correto sem taxas')\n",
    "    elif peso > fish:\n",
    "        extra = (peso - fish) * extra\n",
    "        print('Total a pagar:', extra, 'R$')\n",
    "    else:\n",
    "        print('Pescou a menos')\n",
    "\n",
    "calc()\n",
    "\n"
   ]
  },
  {
   "cell_type": "code",
   "execution_count": 16,
   "metadata": {},
   "outputs": [
    {
     "name": "stdout",
     "output_type": "stream",
     "text": [
      "4\n"
     ]
    }
   ],
   "source": [
    "x = {1, 2, 2, 3}\n",
    "y = x.discard(2)\n",
    "z = sum(x)\n",
    "print(z)"
   ]
  },
  {
   "cell_type": "code",
   "execution_count": 22,
   "metadata": {},
   "outputs": [
    {
     "name": "stdout",
     "output_type": "stream",
     "text": [
      "0\n",
      "1\n",
      "2\n",
      "3\n",
      "4\n",
      "5\n"
     ]
    }
   ],
   "source": [
    "\n",
    "for i in range (0, 7 -1):\n",
    "    print(i)"
   ]
  },
  {
   "cell_type": "code",
   "execution_count": 12,
   "metadata": {},
   "outputs": [
    {
     "name": "stdout",
     "output_type": "stream",
     "text": [
      "Você ganhou R$ 3000 reais\n",
      "Desconto de IR R$ 330.0 reais\n",
      "Desconto de INSS R$ 240.0 reais\n",
      "Desconto de SINDICATO R$ 150.0 reais\n",
      "Sobrou do seu salario: R$ 2280.0\n"
     ]
    }
   ],
   "source": [
    "#15 Faça um Programa que pergunte quanto você ganha por hora e o número de horas trabalhadas no mês. Calcule e mostre o total do seu salário no referido mês, sabendo-se que são descontados 11% para o Imposto de Renda, 8% para o INSS e 5% para o sindicato, faça um programa que nos dê:\n",
    "# salário bruto. quanto pagou ao INSS. quanto pagou ao sindicato. o salário líquido. calcule os descontos e o salário líquido, conforme a tabela abaixo:\n",
    "irf = 11\n",
    "inss = 8\n",
    "sind = 5\n",
    "\n",
    "salario = int(input('Quanto você ganhar por hora?:' + ''))\n",
    "dias_trab = int(input('Quanto você trabalhou este mês?:' + ''))\n",
    "resp1 = salario * dias_trab\n",
    "print('Você ganhou R$', resp1, 'reais')\n",
    "resp2 = resp1 * irf / 100 \n",
    "print('Desconto de IR: R$', (resp2), 'reais')\n",
    "resp3 = resp1 * inss / 100 \n",
    "print('Desconto de INSS: R$', (resp3), 'reais')\n",
    "resp4 = resp1 * sind / 100 \n",
    "print('Desconto de SINDICATO: R$', (resp4), 'reais')\n",
    "#total ganho#\n",
    "print('Sobrou do seu salario:', 'R$', resp1 - resp2 - resp3 - resp4 )\n",
    "\n"
   ]
  },
  {
   "cell_type": "code",
   "execution_count": 37,
   "metadata": {},
   "outputs": [
    {
     "name": "stdout",
     "output_type": "stream",
     "text": [
      "Você precisará de 167 latas de tinta.\n",
      "O preço total será de R$ 13360\n"
     ]
    }
   ],
   "source": [
    "# 16 - Faça um programa para uma loja de tintas. O programa deverá pedir o tamanho em metros quadrados da área a ser pintada. Considere que a cobertura da tinta é de 1 litro para cada 3 metros quadrados e que a tinta é vendida em latas de 18 litros, que custam R$ 80,00. Informe ao usuário a quantidades de latas de tinta a serem compradas e o preço total.\n",
    "# Definindo as variáveis\n",
    "cobertura_por_litro = 3  # Cada litro cobre 3 metros quadrados\n",
    "preco_por_lata = 80  # Preço de uma lata de tinta com 18 litros\n",
    "capacidade_lata = 18  # Capacidade de uma lata de tinta em litros\n",
    "\n",
    "# Solicitar a entrada do usuário\n",
    "metros_quadrados = float(input('Quantos metros quadrados você deseja pintar? '))\n",
    "\n",
    "# Calcular a quantidade de litros necessários\n",
    "litros_necessarios = metros_quadrados / cobertura_por_litro\n",
    "\n",
    "# Calcular a quantidade de latas necessárias\n",
    "quantidade_latas = litros_necessarios / capacidade_lata\n",
    "quantidade_latas = int(quantidade_latas)  # Arredondando para cima\n",
    "\n",
    "# Se a quantidade de latas não for suficiente para cobrir toda a área, adicionar uma lata extra\n",
    "if litros_necessarios % capacidade_lata != 0:\n",
    "    quantidade_latas += 1\n",
    "\n",
    "# Calcular o preço total\n",
    "preco_total = quantidade_latas * preco_por_lata\n",
    "\n",
    "# Exibir o resultado para o usuário\n",
    "print('Você precisará de', quantidade_latas, 'latas de tinta.')\n",
    "print('O preço total será de R$', preco_total)\n"
   ]
  },
  {
   "cell_type": "code",
   "execution_count": 5,
   "metadata": {},
   "outputs": [
    {
     "name": "stdout",
     "output_type": "stream",
     "text": [
      "Quantidade de tinta necessária: 25.00 litros\n",
      "Preço apenas com latas de 18 litros: 160\n",
      "Preço apenas com galões de 3.6 litros: 175\n",
      "Preço misturando latas e galões: 210\n"
     ]
    }
   ],
   "source": [
    "#  17 - Faça um Programa para uma loja de tintas. O programa deverá pedir o tamanho em metros quadrados da área a ser pintada. Considere que a cobertura da tinta é de 1 litro para cada 6 metros quadrados e que a tinta é vendida em latas de 18 litros, que custam R$ 80,00 ou em galões de 3,6 litros, que custam R$ 25,00.\n",
    "# Informe ao usuário as quantidades de tinta a serem compradas e os respectivos preços em 3 situações: comprar apenas latas de 18 litros;\n",
    "# comprar apenas galões de 3,6 litros; misturar latas e galões, de forma que o desperdício de tinta seja menor. Acrescente 10% de folga e sempre arredonde os valores para cima, isto é, considere latas cheias.\n",
    "\n",
    "import math\n",
    "\n",
    "area = float(input(\"Digite o tamanho da área a ser pintada em metros quadrados: \"))\n",
    "\n",
    "# Passo 2: Calcular a quantidade de tinta necessária\n",
    "litros_necessarios = area / 6\n",
    "\n",
    "# Para latas de 18 litros\n",
    "latas = math.ceil(litros_necessarios / 18)\n",
    "\n",
    "# Para galões de 3.6 litros\n",
    "galoes = math.ceil(litros_necessarios / 3.6)\n",
    "\n",
    "\n",
    "# Preço apenas com latas de 18 litros\n",
    "preco_latas = latas * 80\n",
    "\n",
    "# Preço apenas com galões de 3.6 litros\n",
    "preco_galoes = galoes * 25\n",
    "\n",
    "\n",
    "# Número de latas necessárias para a quantidade de litros necessários\n",
    "latas_necessarias = math.ceil(litros_necessarios / 18)\n",
    "\n",
    "# O resto da divisão dos litros necessários pelas latas de 18 litros\n",
    "resto = litros_necessarios % 18\n",
    "\n",
    "# Número de galões necessários para o resto\n",
    "galoes_necessarios = math.ceil(resto / 3.6)\n",
    "\n",
    "# Preço misturando latas e galões\n",
    "preco_misturado = (latas_necessarias * 80) + (galoes_necessarios * 25)\n",
    "\n",
    "# Saída dos resultados\n",
    "print(\"Quantidade de tinta necessária: {:.2f} litros\".format(litros_necessarios))\n",
    "print(\"Preço apenas com latas de 18 litros:\", preco_latas)\n",
    "print(\"Preço apenas com galões de 3.6 litros:\", preco_galoes)\n",
    "print(\"Preço misturando latas e galões:\", preco_misturado)\n"
   ]
  },
  {
   "cell_type": "code",
   "execution_count": 8,
   "metadata": {},
   "outputs": [
    {
     "name": "stdout",
     "output_type": "stream",
     "text": [
      "O tempo estimado para download é de: 12.0 segundos\n"
     ]
    }
   ],
   "source": [
    "#18 -Faça um programa que peça o tamanho de um arquivo para download (em MB) e a velocidade de um link de Internet (em Mbps), calcule e informe o tempo aproximado de download do arquivo usando este link (em minutos).\n",
    "\n",
    "dow = int(input('Qual o tamanho do arquivo para download?: '))\n",
    "vel = int(input('Qual a velocidade da sua internet?: '))\n",
    "\n",
    "resp = dow / (vel/8)\n",
    "\n",
    "if resp < 60:\n",
    "    print('O tempo estimado para download é de:', resp, 'segundos')\n",
    "else:\n",
    "    resp /= 60  # Convert seconds to minutes\n",
    "    print('O tempo estimado para download é de:', resp, 'minutos')\n"
   ]
  }
 ],
 "metadata": {
  "kernelspec": {
   "display_name": "Python 3",
   "language": "python",
   "name": "python3"
  },
  "language_info": {
   "codemirror_mode": {
    "name": "ipython",
    "version": 3
   },
   "file_extension": ".py",
   "mimetype": "text/x-python",
   "name": "python",
   "nbconvert_exporter": "python",
   "pygments_lexer": "ipython3",
   "version": "3.12.2"
  }
 },
 "nbformat": 4,
 "nbformat_minor": 2
}
